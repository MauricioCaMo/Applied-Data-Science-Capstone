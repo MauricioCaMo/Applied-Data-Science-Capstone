{
 "cells": [
  {
   "cell_type": "code",
   "execution_count": null,
   "id": "b439549a-4089-467b-a889-a1425ab57cea",
   "metadata": {},
   "outputs": [],
   "source": [
    "\n",
    "!pip install pandas dash"
   ]
  },
  {
   "cell_type": "code",
   "execution_count": 1,
   "id": "8a3c1c04-0255-4285-9f02-0dab803a93b9",
   "metadata": {
    "tags": []
   },
   "outputs": [],
   "source": [
    "# Import required libraries\n",
    "import pandas as pd\n",
    "import dash\n",
    "from dash import dcc\n",
    "from dash import html\n",
    "from dash import Dash\n",
    "from dash.dependencies import Input, Output\n",
    "import plotly.express as px"
   ]
  },
  {
   "cell_type": "code",
   "execution_count": 23,
   "id": "151c0f83-8edd-4ae4-a432-5e04473563c9",
   "metadata": {
    "tags": []
   },
   "outputs": [],
   "source": [
    "# Download and read the `spacex_launch_geo.csv`\n",
    "#spacex_csv_file = wget.download('https://cf-courses-data.s3.us.cloud-object-storage.appdomain.cloud/IBM-DS0321EN-SkillsNetwork/datasets/spacex_launch_geo.csv')\n",
    "spacex_csv_file = \"spacex_launch_geo.csv\"\n",
    "spacex_df=pd.read_csv(spacex_csv_file)\n",
    "spacex_df = spacex_df[['Launch Site', 'Lat', 'Long', 'class']]"
   ]
  },
  {
   "cell_type": "code",
   "execution_count": 26,
   "id": "cc756d85-69eb-4476-aced-345c7afe050d",
   "metadata": {
    "tags": []
   },
   "outputs": [
    {
     "data": {
      "text/html": [
       "\n",
       "        <iframe\n",
       "            width=\"100%\"\n",
       "            height=\"650\"\n",
       "            src=\"http://127.0.0.1:8051/\"\n",
       "            frameborder=\"0\"\n",
       "            allowfullscreen\n",
       "            \n",
       "        ></iframe>\n",
       "        "
      ],
      "text/plain": [
       "<IPython.lib.display.IFrame at 0x194898d3740>"
      ]
     },
     "metadata": {},
     "output_type": "display_data"
    }
   ],
   "source": [
    "# Create a dash application\n",
    "app = dash.Dash(__name__)\n",
    "\n",
    "app.layout = html.Div([    \n",
    "    html.Header('My Launch Site'),    \n",
    "     dcc.Dropdown(id='site-dropdown',\n",
    "                     options=[\n",
    "                             {'label': 'All Sites', 'value': 'ALL'},\n",
    "                             {'label': 'CCAFS LC-40', 'value': 'CCAFS LC-40'},\n",
    "                             {'label': 'VAFB SLC-4E', 'value': 'VAFB SLC-4E'},\n",
    "                             {'label': 'KSC LC-39A', 'value': 'KSC LC-39A'},\n",
    "                             {'label': 'CCAFS SLC-40', 'value': 'CCAFS SLC-40'}\n",
    "                             ],\n",
    "                     value='ALL',\n",
    "                     placeholder='Select a Launch Site here',\n",
    "                     searchable=True                    \n",
    "                     ), \n",
    "    dcc.Graph(id = 'success-pie-chart') \n",
    "    ])\n",
    "# Function decorator to specify function input and output\n",
    "@app.callback(Output(component_id='success-pie-chart', component_property='figure'),\n",
    "              Input(component_id='site-dropdown', component_property='value'))\n",
    "\n",
    "def get_pie_chart(entered_site):\n",
    "    filtered_df = spacex_df\n",
    "    if entered_site == 'ALL':\n",
    "        data  = spacex_df[spacex_df['class']==1]\n",
    "       # data = filtered_df.groupby(\"Launch Site\").count().reset_index()\n",
    "        data = data.groupby(\"Launch Site\").count().reset_index()        \n",
    "        fig = px.pie(data, values='class', \n",
    "                        names= data['Launch Site'], \n",
    "                        title='All sites'\n",
    "                    )\n",
    "        return fig\n",
    "    else:\n",
    "        data = spacex_df[spacex_df['Launch Site']==entered_site]\n",
    "        data = data.groupby(['Launch Site', 'class']).size().reset_index(name='class count')\n",
    "        fig = px.pie(data, values='class count', \n",
    "                        names= data['class'], \n",
    "                        title= entered_site\n",
    "                    )\n",
    "        return fig\n",
    "        # return the outcomes piechart for a selected site\n",
    "\n",
    "if __name__ == '__main__':\n",
    "    app.run_server(debug=True, port=8051)"
   ]
  },
  {
   "cell_type": "code",
   "execution_count": 27,
   "id": "0b1a2883-270c-48c4-9f6f-ac514370c816",
   "metadata": {
    "scrolled": true,
    "tags": []
   },
   "outputs": [
    {
     "data": {
      "text/html": [
       "\n",
       "        <iframe\n",
       "            width=\"100%\"\n",
       "            height=\"650\"\n",
       "            src=\"http://127.0.0.1:8052/\"\n",
       "            frameborder=\"0\"\n",
       "            allowfullscreen\n",
       "            \n",
       "        ></iframe>\n",
       "        "
      ],
      "text/plain": [
       "<IPython.lib.display.IFrame at 0x1948b7c5a60>"
      ]
     },
     "metadata": {},
     "output_type": "display_data"
    }
   ],
   "source": [
    "# Create a dash application\n",
    "spacex_csv_file = \"spacex_launch_geo.csv\"\n",
    "spacex_df=pd.read_csv(spacex_csv_file)\n",
    "\n",
    "app = dash.Dash(__name__)\n",
    "min_value= 100\n",
    "max_value = 100000\n",
    "\n",
    "app.layout = html.Div([    \n",
    "    html.Header('My Launch Site'),    \n",
    "     dcc.Dropdown(id='site-dropdown',\n",
    "                     options=[\n",
    "                             {'label': 'All Sites', 'value': 'ALL'},\n",
    "                             {'label': 'CCAFS LC-40', 'value': 'CCAFS LC-40'},\n",
    "                             {'label': 'VAFB SLC-4E', 'value': 'VAFB SLC-4E'},\n",
    "                             {'label': 'KSC LC-39A', 'value': 'KSC LC-39A'},\n",
    "                             {'label': 'CCAFS SLC-40', 'value': 'CCAFS SLC-40'}\n",
    "                             ],\n",
    "                     value='ALL',\n",
    "                     placeholder='Select a Launch Site here',\n",
    "                     searchable=True                    \n",
    "                     ), \n",
    "      dcc.RangeSlider(id='payload-slider',\n",
    "                    min=0, \n",
    "                    max=10000, \n",
    "                    step=1000,\n",
    "                    marks={0: '0', 2000: '2000', 4000: '4000', 6000: '6000', 8000: '8000', 10000: '10000'},\n",
    "                    value=[min_value, max_value]\n",
    "                   ),\n",
    "      dcc.Graph(id = 'success-payload-scatter-chart')  \n",
    "    ])\n",
    "# Function decorator to specify function input and output\n",
    "@app.callback(\n",
    "              Output(component_id='success-payload-scatter-chart', component_property='figure'),\n",
    "              Input(component_id='site-dropdown', component_property='value'),\n",
    "              Input(component_id=\"payload-slider\", component_property=\"value\")\n",
    "              )\n",
    "\n",
    "def get_chart(entered_site, value):\n",
    "    \n",
    "    spacex_csv_file = \"spacex_launch_geo.csv\"\n",
    "    spacex_df=pd.read_csv(spacex_csv_file)\n",
    "    resultado = spacex_df[['Launch Site', 'Booster Version', 'Payload Mass (kg)', 'class']]\n",
    "    max_payload = value[1]\n",
    "    min_payload = value[0]\n",
    "    if entered_site == 'ALL':        \n",
    "       resultado = resultado[(resultado['Payload Mass (kg)']<max_payload) & (resultado['Payload Mass (kg)'] > min_payload)]\n",
    "       fig = px.scatter(resultado, x=\"Payload Mass (kg)\", y=\"class\", color=\"Booster Version\")\n",
    "       return fig\n",
    "    else:\n",
    "        resultado = resultado[(resultado['Launch Site']==entered_site) & (resultado['Payload Mass (kg)']<max_payload)& (resultado['Payload Mass (kg)']>min_paylodas)]\n",
    "        fig = px.scatter(resultado, x=\"Payload Mass (kg)\", y=\"class\", color=\"Booster Version\")        \n",
    "        return fig\n",
    "\n",
    "if __name__ == '__main__':\n",
    "    app.run_server(debug=True, port=8052)\n",
    "\n"
   ]
  },
  {
   "cell_type": "markdown",
   "id": "db4a57b2-4949-48f0-80a6-54e3d0a50db8",
   "metadata": {},
   "source": [
    "Which site has the largest successful launches?\n",
    "Answer: Its KSC LC-39A.\n",
    "\n",
    "Which site has the highest launch success rate? \n",
    "Answer: Its SC LC-39A.\n",
    "\n",
    "Which payload range(s) has the lowest launch success rate?\n",
    "Answer: Its 0 to 6.000\n",
    "\n",
    "Which F9 Booster version (v1.0, v1.1, FT, B4, B5, etc.) has the highest launch success rate?\n",
    "Answer: Its F9n b4 b1041.1"
   ]
  }
 ],
 "metadata": {
  "kernelspec": {
   "display_name": "Python 3 (ipykernel)",
   "language": "python",
   "name": "python3"
  },
  "language_info": {
   "codemirror_mode": {
    "name": "ipython",
    "version": 3
   },
   "file_extension": ".py",
   "mimetype": "text/x-python",
   "name": "python",
   "nbconvert_exporter": "python",
   "pygments_lexer": "ipython3",
   "version": "3.12.4"
  }
 },
 "nbformat": 4,
 "nbformat_minor": 5
}
